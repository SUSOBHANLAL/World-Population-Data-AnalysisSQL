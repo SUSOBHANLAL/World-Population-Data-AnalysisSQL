{
 "cells": [
  {
   "cell_type": "code",
   "execution_count": 1,
   "id": "37018df2-77f6-4529-8edd-983a4b4c3415",
   "metadata": {},
   "outputs": [],
   "source": [
    "import pandas as pd"
   ]
  },
  {
   "cell_type": "code",
   "execution_count": 7,
   "id": "be35fe0b-1016-4da4-98e2-c8a812f69e44",
   "metadata": {},
   "outputs": [
    {
     "data": {
      "text/html": [
       "<div>\n",
       "<style scoped>\n",
       "    .dataframe tbody tr th:only-of-type {\n",
       "        vertical-align: middle;\n",
       "    }\n",
       "\n",
       "    .dataframe tbody tr th {\n",
       "        vertical-align: top;\n",
       "    }\n",
       "\n",
       "    .dataframe thead th {\n",
       "        text-align: right;\n",
       "    }\n",
       "</style>\n",
       "<table border=\"1\" class=\"dataframe\">\n",
       "  <thead>\n",
       "    <tr style=\"text-align: right;\">\n",
       "      <th></th>\n",
       "      <th>Rank</th>\n",
       "      <th>CCA3</th>\n",
       "      <th>Country/Territory</th>\n",
       "      <th>Capital</th>\n",
       "      <th>Continent</th>\n",
       "      <th>2022 Population</th>\n",
       "      <th>2020 Population</th>\n",
       "      <th>2015 Population</th>\n",
       "      <th>2010 Population</th>\n",
       "      <th>2000 Population</th>\n",
       "      <th>1990 Population</th>\n",
       "      <th>1980 Population</th>\n",
       "      <th>1970 Population</th>\n",
       "      <th>Area (km²)</th>\n",
       "      <th>Density (per km²)</th>\n",
       "      <th>Growth Rate</th>\n",
       "      <th>World Population Percentage</th>\n",
       "    </tr>\n",
       "  </thead>\n",
       "  <tbody>\n",
       "    <tr>\n",
       "      <th>0</th>\n",
       "      <td>36</td>\n",
       "      <td>AFG</td>\n",
       "      <td>Afghanistan</td>\n",
       "      <td>Kabul</td>\n",
       "      <td>Asia</td>\n",
       "      <td>41128771</td>\n",
       "      <td>38972230</td>\n",
       "      <td>33753499</td>\n",
       "      <td>28189672</td>\n",
       "      <td>19542982</td>\n",
       "      <td>10694796</td>\n",
       "      <td>12486631</td>\n",
       "      <td>10752971</td>\n",
       "      <td>652230</td>\n",
       "      <td>63.0587</td>\n",
       "      <td>1.0257</td>\n",
       "      <td>0.52</td>\n",
       "    </tr>\n",
       "    <tr>\n",
       "      <th>1</th>\n",
       "      <td>138</td>\n",
       "      <td>ALB</td>\n",
       "      <td>Albania</td>\n",
       "      <td>Tirana</td>\n",
       "      <td>Europe</td>\n",
       "      <td>2842321</td>\n",
       "      <td>2866849</td>\n",
       "      <td>2882481</td>\n",
       "      <td>2913399</td>\n",
       "      <td>3182021</td>\n",
       "      <td>3295066</td>\n",
       "      <td>2941651</td>\n",
       "      <td>2324731</td>\n",
       "      <td>28748</td>\n",
       "      <td>98.8702</td>\n",
       "      <td>0.9957</td>\n",
       "      <td>0.04</td>\n",
       "    </tr>\n",
       "    <tr>\n",
       "      <th>2</th>\n",
       "      <td>34</td>\n",
       "      <td>DZA</td>\n",
       "      <td>Algeria</td>\n",
       "      <td>Algiers</td>\n",
       "      <td>Africa</td>\n",
       "      <td>44903225</td>\n",
       "      <td>43451666</td>\n",
       "      <td>39543154</td>\n",
       "      <td>35856344</td>\n",
       "      <td>30774621</td>\n",
       "      <td>25518074</td>\n",
       "      <td>18739378</td>\n",
       "      <td>13795915</td>\n",
       "      <td>2381741</td>\n",
       "      <td>18.8531</td>\n",
       "      <td>1.0164</td>\n",
       "      <td>0.56</td>\n",
       "    </tr>\n",
       "    <tr>\n",
       "      <th>3</th>\n",
       "      <td>213</td>\n",
       "      <td>ASM</td>\n",
       "      <td>American Samoa</td>\n",
       "      <td>Pago Pago</td>\n",
       "      <td>Oceania</td>\n",
       "      <td>44273</td>\n",
       "      <td>46189</td>\n",
       "      <td>51368</td>\n",
       "      <td>54849</td>\n",
       "      <td>58230</td>\n",
       "      <td>47818</td>\n",
       "      <td>32886</td>\n",
       "      <td>27075</td>\n",
       "      <td>199</td>\n",
       "      <td>222.4774</td>\n",
       "      <td>0.9831</td>\n",
       "      <td>0.00</td>\n",
       "    </tr>\n",
       "    <tr>\n",
       "      <th>4</th>\n",
       "      <td>203</td>\n",
       "      <td>AND</td>\n",
       "      <td>Andorra</td>\n",
       "      <td>Andorra la Vella</td>\n",
       "      <td>Europe</td>\n",
       "      <td>79824</td>\n",
       "      <td>77700</td>\n",
       "      <td>71746</td>\n",
       "      <td>71519</td>\n",
       "      <td>66097</td>\n",
       "      <td>53569</td>\n",
       "      <td>35611</td>\n",
       "      <td>19860</td>\n",
       "      <td>468</td>\n",
       "      <td>170.5641</td>\n",
       "      <td>1.0100</td>\n",
       "      <td>0.00</td>\n",
       "    </tr>\n",
       "  </tbody>\n",
       "</table>\n",
       "</div>"
      ],
      "text/plain": [
       "   Rank CCA3 Country/Territory           Capital Continent  2022 Population  \\\n",
       "0    36  AFG       Afghanistan             Kabul      Asia         41128771   \n",
       "1   138  ALB           Albania            Tirana    Europe          2842321   \n",
       "2    34  DZA           Algeria           Algiers    Africa         44903225   \n",
       "3   213  ASM    American Samoa         Pago Pago   Oceania            44273   \n",
       "4   203  AND           Andorra  Andorra la Vella    Europe            79824   \n",
       "\n",
       "   2020 Population  2015 Population  2010 Population  2000 Population  \\\n",
       "0         38972230         33753499         28189672         19542982   \n",
       "1          2866849          2882481          2913399          3182021   \n",
       "2         43451666         39543154         35856344         30774621   \n",
       "3            46189            51368            54849            58230   \n",
       "4            77700            71746            71519            66097   \n",
       "\n",
       "   1990 Population  1980 Population  1970 Population  Area (km²)  \\\n",
       "0         10694796         12486631         10752971      652230   \n",
       "1          3295066          2941651          2324731       28748   \n",
       "2         25518074         18739378         13795915     2381741   \n",
       "3            47818            32886            27075         199   \n",
       "4            53569            35611            19860         468   \n",
       "\n",
       "   Density (per km²)  Growth Rate  World Population Percentage  \n",
       "0            63.0587       1.0257                         0.52  \n",
       "1            98.8702       0.9957                         0.04  \n",
       "2            18.8531       1.0164                         0.56  \n",
       "3           222.4774       0.9831                         0.00  \n",
       "4           170.5641       1.0100                         0.00  "
      ]
     },
     "execution_count": 7,
     "metadata": {},
     "output_type": "execute_result"
    }
   ],
   "source": [
    "df  = pd.read_csv('world_population.csv')\n",
    "df.head()"
   ]
  },
  {
   "cell_type": "code",
   "execution_count": 8,
   "id": "01fb5899-deaf-4ce2-81c4-2ce9aa05b679",
   "metadata": {},
   "outputs": [
    {
     "data": {
      "text/plain": [
       "Rank                           0\n",
       "CCA3                           0\n",
       "Country/Territory              0\n",
       "Capital                        0\n",
       "Continent                      0\n",
       "2022 Population                0\n",
       "2020 Population                0\n",
       "2015 Population                0\n",
       "2010 Population                0\n",
       "2000 Population                0\n",
       "1990 Population                0\n",
       "1980 Population                0\n",
       "1970 Population                0\n",
       "Area (km²)                     0\n",
       "Density (per km²)              0\n",
       "Growth Rate                    0\n",
       "World Population Percentage    0\n",
       "dtype: int64"
      ]
     },
     "execution_count": 8,
     "metadata": {},
     "output_type": "execute_result"
    }
   ],
   "source": [
    "df.isnull().sum()"
   ]
  },
  {
   "cell_type": "code",
   "execution_count": 10,
   "id": "ecdafe00-22d2-49d7-bf06-6a45b9f822fa",
   "metadata": {},
   "outputs": [
    {
     "data": {
      "text/plain": [
       "Rank                             int64\n",
       "CCA3                            object\n",
       "Country/Territory               object\n",
       "Capital                         object\n",
       "Continent                       object\n",
       "2022 Population                  int64\n",
       "2020 Population                  int64\n",
       "2015 Population                  int64\n",
       "2010 Population                  int64\n",
       "2000 Population                  int64\n",
       "1990 Population                  int64\n",
       "1980 Population                  int64\n",
       "1970 Population                  int64\n",
       "Area (km²)                       int64\n",
       "Density (per km²)              float64\n",
       "Growth Rate                    float64\n",
       "World Population Percentage    float64\n",
       "dtype: object"
      ]
     },
     "execution_count": 10,
     "metadata": {},
     "output_type": "execute_result"
    }
   ],
   "source": [
    "df.dtypes"
   ]
  },
  {
   "cell_type": "code",
   "execution_count": 11,
   "id": "51fd6831-613e-493d-81b2-1efeaf610fd3",
   "metadata": {},
   "outputs": [
    {
     "data": {
      "text/plain": [
       "Continent\n",
       "Africa           57\n",
       "Asia             50\n",
       "Europe           50\n",
       "North America    40\n",
       "Oceania          23\n",
       "South America    14\n",
       "Name: count, dtype: int64"
      ]
     },
     "execution_count": 11,
     "metadata": {},
     "output_type": "execute_result"
    }
   ],
   "source": [
    "df['Continent'].value_counts()"
   ]
  },
  {
   "cell_type": "code",
   "execution_count": 14,
   "id": "ee35ef4e-52ca-4ea9-95b4-06a88ce2d3ea",
   "metadata": {},
   "outputs": [
    {
     "data": {
      "text/plain": [
       "array(['Afghanistan', 'Albania', 'Algeria', 'American Samoa', 'Andorra',\n",
       "       'Angola', 'Anguilla', 'Antigua and Barbuda', 'Argentina',\n",
       "       'Armenia', 'Aruba', 'Australia', 'Austria', 'Azerbaijan',\n",
       "       'Bahamas', 'Bahrain', 'Bangladesh', 'Barbados', 'Belarus',\n",
       "       'Belgium', 'Belize', 'Benin', 'Bermuda', 'Bhutan', 'Bolivia',\n",
       "       'Bosnia and Herzegovina', 'Botswana', 'Brazil',\n",
       "       'British Virgin Islands', 'Brunei', 'Bulgaria', 'Burkina Faso',\n",
       "       'Burundi', 'Cambodia', 'Cameroon', 'Canada', 'Cape Verde',\n",
       "       'Cayman Islands', 'Central African Republic', 'Chad', 'Chile',\n",
       "       'China', 'Colombia', 'Comoros', 'Cook Islands', 'Costa Rica',\n",
       "       'Croatia', 'Cuba', 'Curacao', 'Cyprus', 'Czech Republic',\n",
       "       'Denmark', 'Djibouti', 'Dominica', 'Dominican Republic',\n",
       "       'DR Congo', 'Ecuador', 'Egypt', 'El Salvador', 'Equatorial Guinea',\n",
       "       'Eritrea', 'Estonia', 'Eswatini', 'Ethiopia', 'Falkland Islands',\n",
       "       'Faroe Islands', 'Fiji', 'Finland', 'France', 'French Guiana',\n",
       "       'French Polynesia', 'Gabon', 'Gambia', 'Georgia', 'Germany',\n",
       "       'Ghana', 'Gibraltar', 'Greece', 'Greenland', 'Grenada',\n",
       "       'Guadeloupe', 'Guam', 'Guatemala', 'Guernsey', 'Guinea',\n",
       "       'Guinea-Bissau', 'Guyana', 'Haiti', 'Honduras', 'Hong Kong',\n",
       "       'Hungary', 'Iceland', 'India', 'Indonesia', 'Iran', 'Iraq',\n",
       "       'Ireland', 'Isle of Man', 'Israel', 'Italy', 'Ivory Coast',\n",
       "       'Jamaica', 'Japan', 'Jersey', 'Jordan', 'Kazakhstan', 'Kenya',\n",
       "       'Kiribati', 'Kuwait', 'Kyrgyzstan', 'Laos', 'Latvia', 'Lebanon',\n",
       "       'Lesotho', 'Liberia', 'Libya', 'Liechtenstein', 'Lithuania',\n",
       "       'Luxembourg', 'Macau', 'Madagascar', 'Malawi', 'Malaysia',\n",
       "       'Maldives', 'Mali', 'Malta', 'Marshall Islands', 'Martinique',\n",
       "       'Mauritania', 'Mauritius', 'Mayotte', 'Mexico', 'Micronesia',\n",
       "       'Moldova', 'Monaco', 'Mongolia', 'Montenegro', 'Montserrat',\n",
       "       'Morocco', 'Mozambique', 'Myanmar', 'Namibia', 'Nauru', 'Nepal',\n",
       "       'Netherlands', 'New Caledonia', 'New Zealand', 'Nicaragua',\n",
       "       'Niger', 'Nigeria', 'Niue', 'North Korea', 'North Macedonia',\n",
       "       'Northern Mariana Islands', 'Norway', 'Oman', 'Pakistan', 'Palau',\n",
       "       'Palestine', 'Panama', 'Papua New Guinea', 'Paraguay', 'Peru',\n",
       "       'Philippines', 'Poland', 'Portugal', 'Puerto Rico', 'Qatar',\n",
       "       'Republic of the Congo', 'Reunion', 'Romania', 'Russia', 'Rwanda',\n",
       "       'Saint Barthelemy', 'Saint Kitts and Nevis', 'Saint Lucia',\n",
       "       'Saint Martin', 'Saint Pierre and Miquelon',\n",
       "       'Saint Vincent and the Grenadines', 'Samoa', 'San Marino',\n",
       "       'Sao Tome and Principe', 'Saudi Arabia', 'Senegal', 'Serbia',\n",
       "       'Seychelles', 'Sierra Leone', 'Singapore', 'Sint Maarten',\n",
       "       'Slovakia', 'Slovenia', 'Solomon Islands', 'Somalia',\n",
       "       'South Africa', 'South Korea', 'South Sudan', 'Spain', 'Sri Lanka',\n",
       "       'Sudan', 'Suriname', 'Sweden', 'Switzerland', 'Syria', 'Taiwan',\n",
       "       'Tajikistan', 'Tanzania', 'Thailand', 'Timor-Leste', 'Togo',\n",
       "       'Tokelau', 'Tonga', 'Trinidad and Tobago', 'Tunisia', 'Turkey',\n",
       "       'Turkmenistan', 'Turks and Caicos Islands', 'Tuvalu', 'Uganda',\n",
       "       'Ukraine', 'United Arab Emirates', 'United Kingdom',\n",
       "       'United States', 'United States Virgin Islands', 'Uruguay',\n",
       "       'Uzbekistan', 'Vanuatu', 'Vatican City', 'Venezuela', 'Vietnam',\n",
       "       'Wallis and Futuna', 'Western Sahara', 'Yemen', 'Zambia',\n",
       "       'Zimbabwe'], dtype=object)"
      ]
     },
     "execution_count": 14,
     "metadata": {},
     "output_type": "execute_result"
    }
   ],
   "source": [
    "df['Country/Territory'].unique()"
   ]
  },
  {
   "cell_type": "code",
   "execution_count": 20,
   "id": "7c0feddd-8693-4699-b055-582edcb7bb5c",
   "metadata": {},
   "outputs": [],
   "source": [
    "max_countrys = []\n",
    "max_populations= []\n",
    "columns = ['2022 Population',\t'2020 Population',\t'2015 Population',\t'2010 Population',\t'2000 Population',\t'1990 Population',\t'1980 Population',\t'1970 Population']\n",
    "for year in columns:\n",
    "    max_country = df.loc[df[year].idxmax()]['Country/Territory']\n",
    "    max_popultion = df[year].max()\n",
    "    max_countrys.append(max_country)\n",
    "    max_populations.append(max_popultion)"
   ]
  },
  {
   "cell_type": "code",
   "execution_count": 22,
   "id": "34d03df7-1aed-45fa-a571-168ef35408d6",
   "metadata": {},
   "outputs": [
    {
     "name": "stdout",
     "output_type": "stream",
     "text": [
      "['China', 'China', 'China', 'China', 'China', 'China', 'China', 'China']\n",
      "[1425887337, 1424929781, 1393715448, 1348191368, 1264099069, 1153704252, 982372466, 822534450]\n"
     ]
    }
   ],
   "source": [
    "print(max_countrys)\n",
    "print(max_populations)"
   ]
  },
  {
   "cell_type": "code",
   "execution_count": 23,
   "id": "acfdbc79-ec55-4f8f-82e5-c27a5b30eb89",
   "metadata": {},
   "outputs": [],
   "source": [
    "#HERE China HAS ALL TIME HIGHEST POPULATION"
   ]
  },
  {
   "cell_type": "code",
   "execution_count": 24,
   "id": "a387c018-f56b-458f-8b77-f2b1fe0dfbff",
   "metadata": {},
   "outputs": [],
   "source": [
    "world_population = []\n",
    "for years in columns:\n",
    "    world_population.append(sum(df[years]))"
   ]
  },
  {
   "cell_type": "code",
   "execution_count": 25,
   "id": "30e99026-141f-4faa-baa5-ad823a67ffb0",
   "metadata": {},
   "outputs": [
    {
     "name": "stdout",
     "output_type": "stream",
     "text": [
      "[7973413042, 7839250603, 7424809761, 6983784998, 6147055703, 5314191665, 4442400371, 3694136661]\n"
     ]
    }
   ],
   "source": [
    "print(world_population)"
   ]
  },
  {
   "cell_type": "code",
   "execution_count": 26,
   "id": "919de70a-44f8-4196-b1c2-b27246403857",
   "metadata": {},
   "outputs": [],
   "source": [
    "import matplotlib.pyplot as plt"
   ]
  },
  {
   "cell_type": "code",
   "execution_count": 36,
   "id": "17538010-c1c6-473c-924d-d552bcd28cdc",
   "metadata": {},
   "outputs": [
    {
     "data": {
      "image/png": "[encoded data removed]",
      "text/plain": [
       "<Figure size 1500x600 with 1 Axes>"
      ]
     },
     "metadata": {},
     "output_type": "display_data"
    }
   ],
   "source": [
    "plt.figure(figsize= (15,6))\n",
    "labels = columns\n",
    "plt.plot(labels,world_population,marker = 'o',linestyle ='--')\n",
    "plt.xlabel('years')\n",
    "plt.ylabel('Population')\n",
    "plt.grid()\n",
    "plt.show()\n",
    "           \n"
   ]
  },
  {
   "cell_type": "code",
   "execution_count": 37,
   "id": "144f9056-8c94-409c-a074-34e2ca8c2e16",
   "metadata": {},
   "outputs": [],
   "source": [
    "current_pop = sum(df['2022 Population'])"
   ]
  },
  {
   "cell_type": "code",
   "execution_count": 38,
   "id": "8e50843a-98e8-4fbd-86ee-44340de4f518",
   "metadata": {},
   "outputs": [],
   "source": [
    "Growth_Rate =[]\n",
    "for year in columns:\n",
    "    Growth_Rate.append((current_pop-sum(df[year]))/sum(df[year])*100)"
   ]
  },
  {
   "cell_type": "code",
   "execution_count": 40,
   "id": "15818eb9-7443-4776-82ff-fa797eabb758",
   "metadata": {},
   "outputs": [
    {
     "data": {
      "text/plain": [
       "[0.0,\n",
       " 1.711419187806771,\n",
       " 7.388785688242498,\n",
       " 14.170368135379416,\n",
       " 29.711091410944384,\n",
       " 50.039997512961364,\n",
       " 79.484341259524,\n",
       " 115.83968796220991]"
      ]
     },
     "execution_count": 40,
     "metadata": {},
     "output_type": "execute_result"
    }
   ],
   "source": [
    "Growth_Rate"
   ]
  },
  {
   "cell_type": "code",
   "execution_count": 41,
   "id": "b6bfd212-dac0-4aa0-895f-d8d56b0061c6",
   "metadata": {},
   "outputs": [
    {
     "data": {
      "image/png": "[encoded data removed]",
      "text/plain": [
       "<Figure size 1500x600 with 1 Axes>"
      ]
     },
     "metadata": {},
     "output_type": "display_data"
    }
   ],
   "source": [
    "plt.figure(figsize= (15,6))\n",
    "labels = columns\n",
    "plt.plot(labels,Growth_Rate,marker = 'o',linestyle ='--')\n",
    "plt.grid()\n",
    "plt.show()"
   ]
  },
  {
   "cell_type": "code",
   "execution_count": 13,
   "id": "93b4e7dc-3e93-40e0-a1c9-396e85f688cb",
   "metadata": {},
   "outputs": [
    {
     "name": "stdout",
     "output_type": "stream",
     "text": [
      "Maximum growth rate has Moldova\n",
      "1.0691\n"
     ]
    }
   ],
   "source": [
    "# minimum density of population has Maldova \n",
    "import pandas as pd\n",
    "df  = pd.read_csv('world_population.csv')\n",
    "\n",
    "max_growth_rate_country = df.loc[df['Growth Rate'].idxmax()]['Country/Territory']\n",
    "min_growth_rate_country = df['Growth Rate'].max()\n",
    "print(\"Maximum growth rate has \" +max_growth_rate_country)\n",
    "print(min_growth_rate_country)\n",
    "\n"
   ]
  },
  {
   "cell_type": "code",
   "execution_count": 12,
   "id": "c0a184a3-bdf8-4438-84f5-e3c140961aae",
   "metadata": {},
   "outputs": [
    {
     "name": "stdout",
     "output_type": "stream",
     "text": [
      "Minimum growth rate has Ukraine\n",
      "0.912\n"
     ]
    }
   ],
   "source": [
    "# minimum density of population has Maldova \n",
    "import pandas as pd\n",
    "df  = pd.read_csv('world_population.csv')\n",
    "\n",
    "max_growth_rate_country = df.loc[df['Growth Rate'].idxmin()]['Country/Territory']\n",
    "min_growth_rate_country = df['Growth Rate'].min()\n",
    "print(\"Minimum growth rate has \" +max_growth_rate_country)\n",
    "print(min_growth_rate_country)\n",
    "\n"
   ]
  },
  {
   "cell_type": "code",
   "execution_count": 15,
   "id": "0aecc9f0-be2c-4b53-8088-011d2dd7207b",
   "metadata": {},
   "outputs": [],
   "source": [
    "# Population contain over the year \n",
    "group_containent_by_destiny = df.groupby('Continent').agg({'2022 Population':'sum','Area (km²)':'sum'}).reset_index()"
   ]
  },
  {
   "cell_type": "code",
   "execution_count": 16,
   "id": "f80bb7d1-8582-4574-8226-84e6a40fb429",
   "metadata": {},
   "outputs": [
    {
     "data": {
      "text/html": [
       "<div>\n",
       "<style scoped>\n",
       "    .dataframe tbody tr th:only-of-type {\n",
       "        vertical-align: middle;\n",
       "    }\n",
       "\n",
       "    .dataframe tbody tr th {\n",
       "        vertical-align: top;\n",
       "    }\n",
       "\n",
       "    .dataframe thead th {\n",
       "        text-align: right;\n",
       "    }\n",
       "</style>\n",
       "<table border=\"1\" class=\"dataframe\">\n",
       "  <thead>\n",
       "    <tr style=\"text-align: right;\">\n",
       "      <th></th>\n",
       "      <th>Continent</th>\n",
       "      <th>2022 Population</th>\n",
       "      <th>Area (km²)</th>\n",
       "    </tr>\n",
       "  </thead>\n",
       "  <tbody>\n",
       "    <tr>\n",
       "      <th>0</th>\n",
       "      <td>Africa</td>\n",
       "      <td>1426730932</td>\n",
       "      <td>30317963</td>\n",
       "    </tr>\n",
       "    <tr>\n",
       "      <th>1</th>\n",
       "      <td>Asia</td>\n",
       "      <td>4721383274</td>\n",
       "      <td>32138141</td>\n",
       "    </tr>\n",
       "    <tr>\n",
       "      <th>2</th>\n",
       "      <td>Europe</td>\n",
       "      <td>743147538</td>\n",
       "      <td>23010411</td>\n",
       "    </tr>\n",
       "    <tr>\n",
       "      <th>3</th>\n",
       "      <td>North America</td>\n",
       "      <td>600296136</td>\n",
       "      <td>24244178</td>\n",
       "    </tr>\n",
       "    <tr>\n",
       "      <th>4</th>\n",
       "      <td>Oceania</td>\n",
       "      <td>45038554</td>\n",
       "      <td>8515081</td>\n",
       "    </tr>\n",
       "    <tr>\n",
       "      <th>5</th>\n",
       "      <td>South America</td>\n",
       "      <td>436816608</td>\n",
       "      <td>17833382</td>\n",
       "    </tr>\n",
       "  </tbody>\n",
       "</table>\n",
       "</div>"
      ],
      "text/plain": [
       "       Continent  2022 Population  Area (km²)\n",
       "0         Africa       1426730932    30317963\n",
       "1           Asia       4721383274    32138141\n",
       "2         Europe        743147538    23010411\n",
       "3  North America        600296136    24244178\n",
       "4        Oceania         45038554     8515081\n",
       "5  South America        436816608    17833382"
      ]
     },
     "execution_count": 16,
     "metadata": {},
     "output_type": "execute_result"
    }
   ],
   "source": [
    "group_containent_by_destiny"
   ]
  },
  {
   "cell_type": "code",
   "execution_count": 17,
   "id": "67b8af88-41aa-446b-8bd0-a269a02d9ad7",
   "metadata": {},
   "outputs": [],
   "source": [
    "#To show the Density\n",
    "group_containent_by_destiny['Continent Density'] = group_containent_by_destiny['2022 Population']/group_containent_by_destiny['Area (km²)']"
   ]
  },
  {
   "cell_type": "code",
   "execution_count": 18,
   "id": "d0f79d03-d484-4343-8ad7-e1cc57db5974",
   "metadata": {},
   "outputs": [
    {
     "data": {
      "text/html": [
       "<div>\n",
       "<style scoped>\n",
       "    .dataframe tbody tr th:only-of-type {\n",
       "        vertical-align: middle;\n",
       "    }\n",
       "\n",
       "    .dataframe tbody tr th {\n",
       "        vertical-align: top;\n",
       "    }\n",
       "\n",
       "    .dataframe thead th {\n",
       "        text-align: right;\n",
       "    }\n",
       "</style>\n",
       "<table border=\"1\" class=\"dataframe\">\n",
       "  <thead>\n",
       "    <tr style=\"text-align: right;\">\n",
       "      <th></th>\n",
       "      <th>Continent</th>\n",
       "      <th>2022 Population</th>\n",
       "      <th>Area (km²)</th>\n",
       "      <th>Continent Density</th>\n",
       "    </tr>\n",
       "  </thead>\n",
       "  <tbody>\n",
       "    <tr>\n",
       "      <th>0</th>\n",
       "      <td>Africa</td>\n",
       "      <td>1426730932</td>\n",
       "      <td>30317963</td>\n",
       "      <td>47.058931</td>\n",
       "    </tr>\n",
       "    <tr>\n",
       "      <th>1</th>\n",
       "      <td>Asia</td>\n",
       "      <td>4721383274</td>\n",
       "      <td>32138141</td>\n",
       "      <td>146.909035</td>\n",
       "    </tr>\n",
       "    <tr>\n",
       "      <th>2</th>\n",
       "      <td>Europe</td>\n",
       "      <td>743147538</td>\n",
       "      <td>23010411</td>\n",
       "      <td>32.296144</td>\n",
       "    </tr>\n",
       "    <tr>\n",
       "      <th>3</th>\n",
       "      <td>North America</td>\n",
       "      <td>600296136</td>\n",
       "      <td>24244178</td>\n",
       "      <td>24.760424</td>\n",
       "    </tr>\n",
       "    <tr>\n",
       "      <th>4</th>\n",
       "      <td>Oceania</td>\n",
       "      <td>45038554</td>\n",
       "      <td>8515081</td>\n",
       "      <td>5.289269</td>\n",
       "    </tr>\n",
       "    <tr>\n",
       "      <th>5</th>\n",
       "      <td>South America</td>\n",
       "      <td>436816608</td>\n",
       "      <td>17833382</td>\n",
       "      <td>24.494322</td>\n",
       "    </tr>\n",
       "  </tbody>\n",
       "</table>\n",
       "</div>"
      ],
      "text/plain": [
       "       Continent  2022 Population  Area (km²)  Continent Density\n",
       "0         Africa       1426730932    30317963          47.058931\n",
       "1           Asia       4721383274    32138141         146.909035\n",
       "2         Europe        743147538    23010411          32.296144\n",
       "3  North America        600296136    24244178          24.760424\n",
       "4        Oceania         45038554     8515081           5.289269\n",
       "5  South America        436816608    17833382          24.494322"
      ]
     },
     "execution_count": 18,
     "metadata": {},
     "output_type": "execute_result"
    }
   ],
   "source": [
    "group_containent_by_destiny"
   ]
  },
  {
   "cell_type": "code",
   "execution_count": 19,
   "id": "1363cfb8-7947-432a-826e-1cf9afc3fb9a",
   "metadata": {},
   "outputs": [],
   "source": [
    "df_sorted = df.sort_values(by = 'Rank', ascending = True)"
   ]
  },
  {
   "cell_type": "code",
   "execution_count": 22,
   "id": "fb4d4e33-7873-485e-9618-52b27738c468",
   "metadata": {},
   "outputs": [],
   "source": [
    "df_sorted = df_sorted.reset_index()\n",
    "df_sorted.set_index('Rank',inplace= True)"
   ]
  },
  {
   "cell_type": "code",
   "execution_count": 23,
   "id": "57f61d15-617a-4f79-9afe-6bdfacea8de5",
   "metadata": {},
   "outputs": [],
   "source": [
    "df_sorted = df_sorted.reset_index()"
   ]
  },
  {
   "cell_type": "code",
   "execution_count": 24,
   "id": "f823814a-b4f3-417e-aeb3-f3d547d2ae2d",
   "metadata": {},
   "outputs": [
    {
     "data": {
      "text/html": [
       "<div>\n",
       "<style scoped>\n",
       "    .dataframe tbody tr th:only-of-type {\n",
       "        vertical-align: middle;\n",
       "    }\n",
       "\n",
       "    .dataframe tbody tr th {\n",
       "        vertical-align: top;\n",
       "    }\n",
       "\n",
       "    .dataframe thead th {\n",
       "        text-align: right;\n",
       "    }\n",
       "</style>\n",
       "<table border=\"1\" class=\"dataframe\">\n",
       "  <thead>\n",
       "    <tr style=\"text-align: right;\">\n",
       "      <th></th>\n",
       "      <th>Rank</th>\n",
       "      <th>level_0</th>\n",
       "      <th>index</th>\n",
       "      <th>CCA3</th>\n",
       "      <th>Country/Territory</th>\n",
       "      <th>Capital</th>\n",
       "      <th>Continent</th>\n",
       "      <th>2022 Population</th>\n",
       "      <th>2020 Population</th>\n",
       "      <th>2015 Population</th>\n",
       "      <th>2010 Population</th>\n",
       "      <th>2000 Population</th>\n",
       "      <th>1990 Population</th>\n",
       "      <th>1980 Population</th>\n",
       "      <th>1970 Population</th>\n",
       "      <th>Area (km²)</th>\n",
       "      <th>Density (per km²)</th>\n",
       "      <th>Growth Rate</th>\n",
       "      <th>World Population Percentage</th>\n",
       "    </tr>\n",
       "  </thead>\n",
       "  <tbody>\n",
       "    <tr>\n",
       "      <th>0</th>\n",
       "      <td>1</td>\n",
       "      <td>0</td>\n",
       "      <td>41</td>\n",
       "      <td>CHN</td>\n",
       "      <td>China</td>\n",
       "      <td>Beijing</td>\n",
       "      <td>Asia</td>\n",
       "      <td>1425887337</td>\n",
       "      <td>1424929781</td>\n",
       "      <td>1393715448</td>\n",
       "      <td>1348191368</td>\n",
       "      <td>1264099069</td>\n",
       "      <td>1153704252</td>\n",
       "      <td>982372466</td>\n",
       "      <td>822534450</td>\n",
       "      <td>9706961</td>\n",
       "      <td>146.8933</td>\n",
       "      <td>1.0000</td>\n",
       "      <td>17.88</td>\n",
       "    </tr>\n",
       "    <tr>\n",
       "      <th>1</th>\n",
       "      <td>2</td>\n",
       "      <td>1</td>\n",
       "      <td>92</td>\n",
       "      <td>IND</td>\n",
       "      <td>India</td>\n",
       "      <td>New Delhi</td>\n",
       "      <td>Asia</td>\n",
       "      <td>1417173173</td>\n",
       "      <td>1396387127</td>\n",
       "      <td>1322866505</td>\n",
       "      <td>1240613620</td>\n",
       "      <td>1059633675</td>\n",
       "      <td>870452165</td>\n",
       "      <td>696828385</td>\n",
       "      <td>557501301</td>\n",
       "      <td>3287590</td>\n",
       "      <td>431.0675</td>\n",
       "      <td>1.0068</td>\n",
       "      <td>17.77</td>\n",
       "    </tr>\n",
       "    <tr>\n",
       "      <th>2</th>\n",
       "      <td>3</td>\n",
       "      <td>2</td>\n",
       "      <td>221</td>\n",
       "      <td>USA</td>\n",
       "      <td>United States</td>\n",
       "      <td>Washington, D.C.</td>\n",
       "      <td>North America</td>\n",
       "      <td>338289857</td>\n",
       "      <td>335942003</td>\n",
       "      <td>324607776</td>\n",
       "      <td>311182845</td>\n",
       "      <td>282398554</td>\n",
       "      <td>248083732</td>\n",
       "      <td>223140018</td>\n",
       "      <td>200328340</td>\n",
       "      <td>9372610</td>\n",
       "      <td>36.0935</td>\n",
       "      <td>1.0038</td>\n",
       "      <td>4.24</td>\n",
       "    </tr>\n",
       "    <tr>\n",
       "      <th>3</th>\n",
       "      <td>4</td>\n",
       "      <td>3</td>\n",
       "      <td>93</td>\n",
       "      <td>IDN</td>\n",
       "      <td>Indonesia</td>\n",
       "      <td>Jakarta</td>\n",
       "      <td>Asia</td>\n",
       "      <td>275501339</td>\n",
       "      <td>271857970</td>\n",
       "      <td>259091970</td>\n",
       "      <td>244016173</td>\n",
       "      <td>214072421</td>\n",
       "      <td>182159874</td>\n",
       "      <td>148177096</td>\n",
       "      <td>115228394</td>\n",
       "      <td>1904569</td>\n",
       "      <td>144.6529</td>\n",
       "      <td>1.0064</td>\n",
       "      <td>3.45</td>\n",
       "    </tr>\n",
       "    <tr>\n",
       "      <th>4</th>\n",
       "      <td>5</td>\n",
       "      <td>4</td>\n",
       "      <td>156</td>\n",
       "      <td>PAK</td>\n",
       "      <td>Pakistan</td>\n",
       "      <td>Islamabad</td>\n",
       "      <td>Asia</td>\n",
       "      <td>235824862</td>\n",
       "      <td>227196741</td>\n",
       "      <td>210969298</td>\n",
       "      <td>194454498</td>\n",
       "      <td>154369924</td>\n",
       "      <td>115414069</td>\n",
       "      <td>80624057</td>\n",
       "      <td>59290872</td>\n",
       "      <td>881912</td>\n",
       "      <td>267.4018</td>\n",
       "      <td>1.0191</td>\n",
       "      <td>2.96</td>\n",
       "    </tr>\n",
       "    <tr>\n",
       "      <th>...</th>\n",
       "      <td>...</td>\n",
       "      <td>...</td>\n",
       "      <td>...</td>\n",
       "      <td>...</td>\n",
       "      <td>...</td>\n",
       "      <td>...</td>\n",
       "      <td>...</td>\n",
       "      <td>...</td>\n",
       "      <td>...</td>\n",
       "      <td>...</td>\n",
       "      <td>...</td>\n",
       "      <td>...</td>\n",
       "      <td>...</td>\n",
       "      <td>...</td>\n",
       "      <td>...</td>\n",
       "      <td>...</td>\n",
       "      <td>...</td>\n",
       "      <td>...</td>\n",
       "      <td>...</td>\n",
       "    </tr>\n",
       "    <tr>\n",
       "      <th>229</th>\n",
       "      <td>230</td>\n",
       "      <td>229</td>\n",
       "      <td>137</td>\n",
       "      <td>MSR</td>\n",
       "      <td>Montserrat</td>\n",
       "      <td>Brades</td>\n",
       "      <td>North America</td>\n",
       "      <td>4390</td>\n",
       "      <td>4500</td>\n",
       "      <td>5059</td>\n",
       "      <td>4938</td>\n",
       "      <td>5138</td>\n",
       "      <td>10805</td>\n",
       "      <td>11452</td>\n",
       "      <td>11402</td>\n",
       "      <td>102</td>\n",
       "      <td>43.0392</td>\n",
       "      <td>0.9939</td>\n",
       "      <td>0.00</td>\n",
       "    </tr>\n",
       "    <tr>\n",
       "      <th>230</th>\n",
       "      <td>231</td>\n",
       "      <td>230</td>\n",
       "      <td>64</td>\n",
       "      <td>FLK</td>\n",
       "      <td>Falkland Islands</td>\n",
       "      <td>Stanley</td>\n",
       "      <td>South America</td>\n",
       "      <td>3780</td>\n",
       "      <td>3747</td>\n",
       "      <td>3408</td>\n",
       "      <td>3187</td>\n",
       "      <td>3080</td>\n",
       "      <td>2332</td>\n",
       "      <td>2240</td>\n",
       "      <td>2274</td>\n",
       "      <td>12173</td>\n",
       "      <td>0.3105</td>\n",
       "      <td>1.0043</td>\n",
       "      <td>0.00</td>\n",
       "    </tr>\n",
       "    <tr>\n",
       "      <th>231</th>\n",
       "      <td>232</td>\n",
       "      <td>231</td>\n",
       "      <td>150</td>\n",
       "      <td>NIU</td>\n",
       "      <td>Niue</td>\n",
       "      <td>Alofi</td>\n",
       "      <td>Oceania</td>\n",
       "      <td>1934</td>\n",
       "      <td>1942</td>\n",
       "      <td>1847</td>\n",
       "      <td>1812</td>\n",
       "      <td>2074</td>\n",
       "      <td>2533</td>\n",
       "      <td>3637</td>\n",
       "      <td>5185</td>\n",
       "      <td>260</td>\n",
       "      <td>7.4385</td>\n",
       "      <td>0.9985</td>\n",
       "      <td>0.00</td>\n",
       "    </tr>\n",
       "    <tr>\n",
       "      <th>232</th>\n",
       "      <td>233</td>\n",
       "      <td>232</td>\n",
       "      <td>209</td>\n",
       "      <td>TKL</td>\n",
       "      <td>Tokelau</td>\n",
       "      <td>Nukunonu</td>\n",
       "      <td>Oceania</td>\n",
       "      <td>1871</td>\n",
       "      <td>1827</td>\n",
       "      <td>1454</td>\n",
       "      <td>1367</td>\n",
       "      <td>1666</td>\n",
       "      <td>1669</td>\n",
       "      <td>1647</td>\n",
       "      <td>1714</td>\n",
       "      <td>12</td>\n",
       "      <td>155.9167</td>\n",
       "      <td>1.0119</td>\n",
       "      <td>0.00</td>\n",
       "    </tr>\n",
       "    <tr>\n",
       "      <th>233</th>\n",
       "      <td>234</td>\n",
       "      <td>233</td>\n",
       "      <td>226</td>\n",
       "      <td>VAT</td>\n",
       "      <td>Vatican City</td>\n",
       "      <td>Vatican City</td>\n",
       "      <td>Europe</td>\n",
       "      <td>510</td>\n",
       "      <td>520</td>\n",
       "      <td>564</td>\n",
       "      <td>596</td>\n",
       "      <td>651</td>\n",
       "      <td>700</td>\n",
       "      <td>733</td>\n",
       "      <td>752</td>\n",
       "      <td>1</td>\n",
       "      <td>510.0000</td>\n",
       "      <td>0.9980</td>\n",
       "      <td>0.00</td>\n",
       "    </tr>\n",
       "  </tbody>\n",
       "</table>\n",
       "<p>234 rows × 19 columns</p>\n",
       "</div>"
      ],
      "text/plain": [
       "     Rank  level_0  index CCA3 Country/Territory           Capital  \\\n",
       "0       1        0     41  CHN             China           Beijing   \n",
       "1       2        1     92  IND             India         New Delhi   \n",
       "2       3        2    221  USA     United States  Washington, D.C.   \n",
       "3       4        3     93  IDN         Indonesia           Jakarta   \n",
       "4       5        4    156  PAK          Pakistan         Islamabad   \n",
       "..    ...      ...    ...  ...               ...               ...   \n",
       "229   230      229    137  MSR        Montserrat            Brades   \n",
       "230   231      230     64  FLK  Falkland Islands           Stanley   \n",
       "231   232      231    150  NIU              Niue             Alofi   \n",
       "232   233      232    209  TKL           Tokelau          Nukunonu   \n",
       "233   234      233    226  VAT      Vatican City      Vatican City   \n",
       "\n",
       "         Continent  2022 Population  2020 Population  2015 Population  \\\n",
       "0             Asia       1425887337       1424929781       1393715448   \n",
       "1             Asia       1417173173       1396387127       1322866505   \n",
       "2    North America        338289857        335942003        324607776   \n",
       "3             Asia        275501339        271857970        259091970   \n",
       "4             Asia        235824862        227196741        210969298   \n",
       "..             ...              ...              ...              ...   \n",
       "229  North America             4390             4500             5059   \n",
       "230  South America             3780             3747             3408   \n",
       "231        Oceania             1934             1942             1847   \n",
       "232        Oceania             1871             1827             1454   \n",
       "233         Europe              510              520              564   \n",
       "\n",
       "     2010 Population  2000 Population  1990 Population  1980 Population  \\\n",
       "0         1348191368       1264099069       1153704252        982372466   \n",
       "1         1240613620       1059633675        870452165        696828385   \n",
       "2          311182845        282398554        248083732        223140018   \n",
       "3          244016173        214072421        182159874        148177096   \n",
       "4          194454498        154369924        115414069         80624057   \n",
       "..               ...              ...              ...              ...   \n",
       "229             4938             5138            10805            11452   \n",
       "230             3187             3080             2332             2240   \n",
       "231             1812             2074             2533             3637   \n",
       "232             1367             1666             1669             1647   \n",
       "233              596              651              700              733   \n",
       "\n",
       "     1970 Population  Area (km²)  Density (per km²)  Growth Rate  \\\n",
       "0          822534450     9706961           146.8933       1.0000   \n",
       "1          557501301     3287590           431.0675       1.0068   \n",
       "2          200328340     9372610            36.0935       1.0038   \n",
       "3          115228394     1904569           144.6529       1.0064   \n",
       "4           59290872      881912           267.4018       1.0191   \n",
       "..               ...         ...                ...          ...   \n",
       "229            11402         102            43.0392       0.9939   \n",
       "230             2274       12173             0.3105       1.0043   \n",
       "231             5185         260             7.4385       0.9985   \n",
       "232             1714          12           155.9167       1.0119   \n",
       "233              752           1           510.0000       0.9980   \n",
       "\n",
       "     World Population Percentage  \n",
       "0                          17.88  \n",
       "1                          17.77  \n",
       "2                           4.24  \n",
       "3                           3.45  \n",
       "4                           2.96  \n",
       "..                           ...  \n",
       "229                         0.00  \n",
       "230                         0.00  \n",
       "231                         0.00  \n",
       "232                         0.00  \n",
       "233                         0.00  \n",
       "\n",
       "[234 rows x 19 columns]"
      ]
     },
     "execution_count": 24,
     "metadata": {},
     "output_type": "execute_result"
    }
   ],
   "source": [
    "df_sorted"
   ]
  },
  {
   "cell_type": "code",
   "execution_count": 36,
   "id": "59f75c39-a9f1-4ca0-9c4a-d88c32a02b68",
   "metadata": {},
   "outputs": [],
   "source": [
    "# Population of First ten Country  Over The Years\n",
    "df_1st_five1 = df_sorted[df_sorted['Rank']<6]\n",
    "population_of_top_five_country = df_1st_five1[['Country/Territory','Growth Rate']]"
   ]
  },
  {
   "cell_type": "code",
   "execution_count": 37,
   "id": "a5b45a5c-af6c-4c00-8de2-3d44088aa3cf",
   "metadata": {},
   "outputs": [
    {
     "data": {
      "text/html": [
       "<div>\n",
       "<style scoped>\n",
       "    .dataframe tbody tr th:only-of-type {\n",
       "        vertical-align: middle;\n",
       "    }\n",
       "\n",
       "    .dataframe tbody tr th {\n",
       "        vertical-align: top;\n",
       "    }\n",
       "\n",
       "    .dataframe thead th {\n",
       "        text-align: right;\n",
       "    }\n",
       "</style>\n",
       "<table border=\"1\" class=\"dataframe\">\n",
       "  <thead>\n",
       "    <tr style=\"text-align: right;\">\n",
       "      <th></th>\n",
       "      <th>Country/Territory</th>\n",
       "      <th>Growth Rate</th>\n",
       "    </tr>\n",
       "  </thead>\n",
       "  <tbody>\n",
       "    <tr>\n",
       "      <th>0</th>\n",
       "      <td>China</td>\n",
       "      <td>1.0000</td>\n",
       "    </tr>\n",
       "    <tr>\n",
       "      <th>1</th>\n",
       "      <td>India</td>\n",
       "      <td>1.0068</td>\n",
       "    </tr>\n",
       "    <tr>\n",
       "      <th>2</th>\n",
       "      <td>United States</td>\n",
       "      <td>1.0038</td>\n",
       "    </tr>\n",
       "    <tr>\n",
       "      <th>3</th>\n",
       "      <td>Indonesia</td>\n",
       "      <td>1.0064</td>\n",
       "    </tr>\n",
       "    <tr>\n",
       "      <th>4</th>\n",
       "      <td>Pakistan</td>\n",
       "      <td>1.0191</td>\n",
       "    </tr>\n",
       "  </tbody>\n",
       "</table>\n",
       "</div>"
      ],
      "text/plain": [
       "  Country/Territory  Growth Rate\n",
       "0             China       1.0000\n",
       "1             India       1.0068\n",
       "2     United States       1.0038\n",
       "3         Indonesia       1.0064\n",
       "4          Pakistan       1.0191"
      ]
     },
     "execution_count": 37,
     "metadata": {},
     "output_type": "execute_result"
    }
   ],
   "source": [
    "population_of_top_five_country"
   ]
  },
  {
   "cell_type": "code",
   "execution_count": 43,
   "id": "887f7979-8b55-42ac-8862-c8f025066269",
   "metadata": {},
   "outputs": [
    {
     "data": {
      "text/plain": [
       "Text(0, 0.5, 'Growth-Rate')"
      ]
     },
     "execution_count": 43,
     "metadata": {},
     "output_type": "execute_result"
    },
    {
     "data": {
      "image/png": "[encoded data removed]",
      "text/plain": [
       "<Figure size 1500x600 with 1 Axes>"
      ]
     },
     "metadata": {},
     "output_type": "display_data"
    }
   ],
   "source": [
    "#Plot the graph \n",
    "import matplotlib.pyplot as plt\n",
    "plt.figure(figsize= (15,6))\n",
    "plt.plot(population_of_top_five_country['Country/Territory'],population_of_top_five_country['Growth Rate'])\n",
    "plt.xlabel('Contries')\n",
    "plt.ylabel('Growth-Rate')"
   ]
  },
  {
   "cell_type": "code",
   "execution_count": null,
   "id": "174a4887-9293-47f6-8762-81465be172a4",
   "metadata": {},
   "outputs": [],
   "source": []
  }
 ],
 "metadata": {
  "kernelspec": {
   "display_name": "Python 3 (ipykernel)",
   "language": "python",
   "name": "python3"
  },
  "language_info": {
   "codemirror_mode": {
    "name": "ipython",
    "version": 3
   },
   "file_extension": ".py",
   "mimetype": "text/x-python",
   "name": "python",
   "nbconvert_exporter": "python",
   "pygments_lexer": "ipython3",
   "version": "3.11.7"
  }
 },
 "nbformat": 4,
 "nbformat_minor": 5
}
